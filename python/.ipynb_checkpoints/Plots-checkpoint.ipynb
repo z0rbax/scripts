{
 "cells": [
  {
   "cell_type": "code",
   "execution_count": 8,
   "metadata": {
    "collapsed": true
   },
   "outputs": [],
   "source": [
    "import pandas as pd\n",
    "from matplotlib import pyplot as plt\n",
    "%matplotlib inline\n",
    "import seaborn as sns"
   ]
  },
  {
   "cell_type": "code",
   "execution_count": 10,
   "metadata": {},
   "outputs": [
    {
     "data": {
      "text/html": [
       "<div>\n",
       "<style>\n",
       "    .dataframe thead tr:only-child th {\n",
       "        text-align: right;\n",
       "    }\n",
       "\n",
       "    .dataframe thead th {\n",
       "        text-align: left;\n",
       "    }\n",
       "\n",
       "    .dataframe tbody tr th {\n",
       "        vertical-align: top;\n",
       "    }\n",
       "</style>\n",
       "<table border=\"1\" class=\"dataframe\">\n",
       "  <thead>\n",
       "    <tr style=\"text-align: right;\">\n",
       "      <th></th>\n",
       "      <th>Phenotype</th>\n",
       "      <th>Gender</th>\n",
       "      <th>Total Size</th>\n",
       "      <th>Reads</th>\n",
       "      <th>Human reads</th>\n",
       "      <th>% Human reads</th>\n",
       "      <th>Unpaired reads</th>\n",
       "      <th>% Unpaired reads</th>\n",
       "    </tr>\n",
       "    <tr>\n",
       "      <th>Subject</th>\n",
       "      <th></th>\n",
       "      <th></th>\n",
       "      <th></th>\n",
       "      <th></th>\n",
       "      <th></th>\n",
       "      <th></th>\n",
       "      <th></th>\n",
       "      <th></th>\n",
       "    </tr>\n",
       "  </thead>\n",
       "  <tbody>\n",
       "    <tr>\n",
       "      <th>Norm01</th>\n",
       "      <td>Normal</td>\n",
       "      <td>M</td>\n",
       "      <td>6.772</td>\n",
       "      <td>53745800</td>\n",
       "      <td>20504</td>\n",
       "      <td>0.038</td>\n",
       "      <td>663759</td>\n",
       "      <td>1.235</td>\n",
       "    </tr>\n",
       "    <tr>\n",
       "      <th>Norm02</th>\n",
       "      <td>Normal</td>\n",
       "      <td>F</td>\n",
       "      <td>5.469</td>\n",
       "      <td>43400866</td>\n",
       "      <td>16441</td>\n",
       "      <td>0.038</td>\n",
       "      <td>581229</td>\n",
       "      <td>1.339</td>\n",
       "    </tr>\n",
       "    <tr>\n",
       "      <th>Norm03</th>\n",
       "      <td>Normal</td>\n",
       "      <td>M</td>\n",
       "      <td>5.271</td>\n",
       "      <td>41830040</td>\n",
       "      <td>11207</td>\n",
       "      <td>0.027</td>\n",
       "      <td>570629</td>\n",
       "      <td>1.364</td>\n",
       "    </tr>\n",
       "    <tr>\n",
       "      <th>Norm04</th>\n",
       "      <td>Normal</td>\n",
       "      <td>M</td>\n",
       "      <td>6.364</td>\n",
       "      <td>50504054</td>\n",
       "      <td>16741</td>\n",
       "      <td>0.033</td>\n",
       "      <td>575324</td>\n",
       "      <td>1.139</td>\n",
       "    </tr>\n",
       "    <tr>\n",
       "      <th>Norm05</th>\n",
       "      <td>Normal</td>\n",
       "      <td>F</td>\n",
       "      <td>5.597</td>\n",
       "      <td>44420344</td>\n",
       "      <td>12978</td>\n",
       "      <td>0.029</td>\n",
       "      <td>577258</td>\n",
       "      <td>1.300</td>\n",
       "    </tr>\n",
       "    <tr>\n",
       "      <th>Norm06</th>\n",
       "      <td>Normal</td>\n",
       "      <td>F</td>\n",
       "      <td>5.418</td>\n",
       "      <td>42996734</td>\n",
       "      <td>6445</td>\n",
       "      <td>0.015</td>\n",
       "      <td>596414</td>\n",
       "      <td>1.387</td>\n",
       "    </tr>\n",
       "    <tr>\n",
       "      <th>Norm07</th>\n",
       "      <td>Normal</td>\n",
       "      <td>M</td>\n",
       "      <td>5.214</td>\n",
       "      <td>41382340</td>\n",
       "      <td>16803</td>\n",
       "      <td>0.041</td>\n",
       "      <td>456557</td>\n",
       "      <td>1.103</td>\n",
       "    </tr>\n",
       "    <tr>\n",
       "      <th>Norm08</th>\n",
       "      <td>Normal</td>\n",
       "      <td>F</td>\n",
       "      <td>5.902</td>\n",
       "      <td>46844822</td>\n",
       "      <td>101415</td>\n",
       "      <td>0.216</td>\n",
       "      <td>549188</td>\n",
       "      <td>1.172</td>\n",
       "    </tr>\n",
       "    <tr>\n",
       "      <th>Norm09</th>\n",
       "      <td>Normal</td>\n",
       "      <td>M</td>\n",
       "      <td>6.252</td>\n",
       "      <td>49618210</td>\n",
       "      <td>229549</td>\n",
       "      <td>0.463</td>\n",
       "      <td>618309</td>\n",
       "      <td>1.246</td>\n",
       "    </tr>\n",
       "    <tr>\n",
       "      <th>Norm10</th>\n",
       "      <td>Normal</td>\n",
       "      <td>F</td>\n",
       "      <td>5.822</td>\n",
       "      <td>46204428</td>\n",
       "      <td>59323</td>\n",
       "      <td>0.128</td>\n",
       "      <td>542360</td>\n",
       "      <td>1.174</td>\n",
       "    </tr>\n",
       "    <tr>\n",
       "      <th>0bese01</th>\n",
       "      <td>Obese</td>\n",
       "      <td>M</td>\n",
       "      <td>8.820</td>\n",
       "      <td>70000220</td>\n",
       "      <td>3714</td>\n",
       "      <td>0.005</td>\n",
       "      <td>1042649</td>\n",
       "      <td>1.489</td>\n",
       "    </tr>\n",
       "    <tr>\n",
       "      <th>0bese02</th>\n",
       "      <td>Obese</td>\n",
       "      <td>F</td>\n",
       "      <td>5.979</td>\n",
       "      <td>47450562</td>\n",
       "      <td>33221</td>\n",
       "      <td>0.070</td>\n",
       "      <td>546423</td>\n",
       "      <td>1.152</td>\n",
       "    </tr>\n",
       "    <tr>\n",
       "      <th>0bese03</th>\n",
       "      <td>Obese</td>\n",
       "      <td>M</td>\n",
       "      <td>7.475</td>\n",
       "      <td>59327550</td>\n",
       "      <td>6598</td>\n",
       "      <td>0.011</td>\n",
       "      <td>712134</td>\n",
       "      <td>1.200</td>\n",
       "    </tr>\n",
       "    <tr>\n",
       "      <th>0bese04</th>\n",
       "      <td>Obese</td>\n",
       "      <td>M</td>\n",
       "      <td>6.920</td>\n",
       "      <td>54923700</td>\n",
       "      <td>17580</td>\n",
       "      <td>0.032</td>\n",
       "      <td>730590</td>\n",
       "      <td>1.330</td>\n",
       "    </tr>\n",
       "    <tr>\n",
       "      <th>0bese05</th>\n",
       "      <td>Obese</td>\n",
       "      <td>M</td>\n",
       "      <td>5.497</td>\n",
       "      <td>43626418</td>\n",
       "      <td>849385</td>\n",
       "      <td>1.947</td>\n",
       "      <td>564592</td>\n",
       "      <td>1.294</td>\n",
       "    </tr>\n",
       "    <tr>\n",
       "      <th>0bese06</th>\n",
       "      <td>Obese</td>\n",
       "      <td>F</td>\n",
       "      <td>6.376</td>\n",
       "      <td>50605218</td>\n",
       "      <td>27855</td>\n",
       "      <td>0.055</td>\n",
       "      <td>601754</td>\n",
       "      <td>1.189</td>\n",
       "    </tr>\n",
       "    <tr>\n",
       "      <th>0bese07</th>\n",
       "      <td>Obese</td>\n",
       "      <td>F</td>\n",
       "      <td>4.557</td>\n",
       "      <td>36167550</td>\n",
       "      <td>9242</td>\n",
       "      <td>0.026</td>\n",
       "      <td>436407</td>\n",
       "      <td>1.207</td>\n",
       "    </tr>\n",
       "    <tr>\n",
       "      <th>0bese08</th>\n",
       "      <td>Obese</td>\n",
       "      <td>F</td>\n",
       "      <td>5.207</td>\n",
       "      <td>41324418</td>\n",
       "      <td>30851</td>\n",
       "      <td>0.075</td>\n",
       "      <td>505566</td>\n",
       "      <td>1.223</td>\n",
       "    </tr>\n",
       "    <tr>\n",
       "      <th>0bese09</th>\n",
       "      <td>Obese</td>\n",
       "      <td>F</td>\n",
       "      <td>6.389</td>\n",
       "      <td>50710216</td>\n",
       "      <td>29711</td>\n",
       "      <td>0.059</td>\n",
       "      <td>624721</td>\n",
       "      <td>1.232</td>\n",
       "    </tr>\n",
       "  </tbody>\n",
       "</table>\n",
       "</div>"
      ],
      "text/plain": [
       "        Phenotype Gender  Total Size     Reads  Human reads  % Human reads  \\\n",
       "Subject                                                                      \n",
       "Norm01     Normal      M       6.772  53745800        20504          0.038   \n",
       "Norm02     Normal      F       5.469  43400866        16441          0.038   \n",
       "Norm03     Normal      M       5.271  41830040        11207          0.027   \n",
       "Norm04     Normal      M       6.364  50504054        16741          0.033   \n",
       "Norm05     Normal      F       5.597  44420344        12978          0.029   \n",
       "Norm06     Normal      F       5.418  42996734         6445          0.015   \n",
       "Norm07     Normal      M       5.214  41382340        16803          0.041   \n",
       "Norm08     Normal      F       5.902  46844822       101415          0.216   \n",
       "Norm09     Normal      M       6.252  49618210       229549          0.463   \n",
       "Norm10     Normal      F       5.822  46204428        59323          0.128   \n",
       "0bese01     Obese      M       8.820  70000220         3714          0.005   \n",
       "0bese02     Obese      F       5.979  47450562        33221          0.070   \n",
       "0bese03     Obese      M       7.475  59327550         6598          0.011   \n",
       "0bese04     Obese      M       6.920  54923700        17580          0.032   \n",
       "0bese05     Obese      M       5.497  43626418       849385          1.947   \n",
       "0bese06     Obese      F       6.376  50605218        27855          0.055   \n",
       "0bese07     Obese      F       4.557  36167550         9242          0.026   \n",
       "0bese08     Obese      F       5.207  41324418        30851          0.075   \n",
       "0bese09     Obese      F       6.389  50710216        29711          0.059   \n",
       "\n",
       "         Unpaired reads  % Unpaired reads  \n",
       "Subject                                    \n",
       "Norm01           663759             1.235  \n",
       "Norm02           581229             1.339  \n",
       "Norm03           570629             1.364  \n",
       "Norm04           575324             1.139  \n",
       "Norm05           577258             1.300  \n",
       "Norm06           596414             1.387  \n",
       "Norm07           456557             1.103  \n",
       "Norm08           549188             1.172  \n",
       "Norm09           618309             1.246  \n",
       "Norm10           542360             1.174  \n",
       "0bese01         1042649             1.489  \n",
       "0bese02          546423             1.152  \n",
       "0bese03          712134             1.200  \n",
       "0bese04          730590             1.330  \n",
       "0bese05          564592             1.294  \n",
       "0bese06          601754             1.189  \n",
       "0bese07          436407             1.207  \n",
       "0bese08          505566             1.223  \n",
       "0bese09          624721             1.232  "
      ]
     },
     "execution_count": 10,
     "metadata": {},
     "output_type": "execute_result"
    }
   ],
   "source": [
    "df = pd.read_csv('data.csv', index_col=0)\n",
    "#df.head()\n",
    "df"
   ]
  },
  {
   "cell_type": "code",
   "execution_count": 3,
   "metadata": {},
   "outputs": [
    {
     "data": {
      "text/plain": [
       "<seaborn.axisgrid.FacetGrid at 0x7f4409a6f610>"
      ]
     },
     "execution_count": 3,
     "metadata": {},
     "output_type": "execute_result"
    },
    {
     "name": "stderr",
     "output_type": "stream",
     "text": [
      "/home/zorbax/bin/miniconda2/lib/python2.7/site-packages/matplotlib/collections.py:590: FutureWarning: elementwise comparison failed; returning scalar instead, but in the future will perform elementwise comparison\n",
      "  if self._edgecolors == str('face'):\n"
     ]
    },
    {
     "data": {
      "image/png": "[encoded data removed]",
      "text/plain": [
       "<matplotlib.figure.Figure at 0x7f4409a6fd10>"
      ]
     },
     "metadata": {},
     "output_type": "display_data"
    }
   ],
   "source": [
    "sns.lmplot(x='Attack', y='Defense', data=df)\n",
    "\n",
    "#sns.lmplot(x=df.Attack, y=df.Defense)"
   ]
  },
  {
   "cell_type": "code",
   "execution_count": 5,
   "metadata": {},
   "outputs": [],
   "source": [
    "pkmn_type_colors = ['#78C850',  # Grass\n",
    "                    '#F08030',  # Fire\n",
    "                    '#6890F0',  # Water\n",
    "                    '#A8B820',  # Bug\n",
    "                    '#A8A878',  # Normal\n",
    "                    '#A040A0',  # Poison\n",
    "                    '#F8D030',  # Electric\n",
    "                    '#E0C068',  # Ground\n",
    "                    '#EE99AC',  # Fairy\n",
    "                    '#C03028',  # Fighting\n",
    "                    '#F85888',  # Psychic\n",
    "                    '#B8A038',  # Rock\n",
    "                    '#705898',  # Ghost\n",
    "                    '#98D8D8',  # Ice\n",
    "                    '#7038F8',  # Dragon\n",
    "                   ]"
   ]
  },
  {
   "cell_type": "code",
   "execution_count": 7,
   "metadata": {},
   "outputs": [
    {
     "data": {
      "text/plain": [
       "(array([ 0,  1,  2,  3,  4,  5,  6,  7,  8,  9, 10, 11, 12, 13, 14]),\n",
       " <a list of 15 Text xticklabel objects>)"
      ]
     },
     "execution_count": 7,
     "metadata": {},
     "output_type": "execute_result"
    },
    {
     "data": {
      "image/png": "[encoded data removed]",
      "text/plain": [
       "<matplotlib.figure.Figure at 0x7f4407921590>"
      ]
     },
     "metadata": {},
     "output_type": "display_data"
    }
   ],
   "source": [
    "sns.countplot(x='Type 1', data=df)\n",
    "plt.xticks(rotation=-45)"
   ]
  },
  {
   "cell_type": "code",
   "execution_count": 7,
   "metadata": {
    "scrolled": true
   },
   "outputs": [
    {
     "data": {
      "text/plain": [
       "(array([ 0. ,  0.2,  0.4,  0.6,  0.8,  1. ]),\n",
       " <a list of 6 Text xticklabel objects>)"
      ]
     },
     "execution_count": 7,
     "metadata": {},
     "output_type": "execute_result"
    },
    {
     "data": {
      "image/png": "[encoded data removed]",
      "text/plain": [
       "<matplotlib.figure.Figure at 0x7f5e2ad418d0>"
      ]
     },
     "metadata": {},
     "output_type": "display_data"
    }
   ],
   "source": []
  },
  {
   "cell_type": "code",
   "execution_count": null,
   "metadata": {
    "collapsed": true
   },
   "outputs": [],
   "source": []
  }
 ],
 "metadata": {
  "kernelspec": {
   "display_name": "Python 2",
   "language": "python",
   "name": "python2"
  },
  "language_info": {
   "codemirror_mode": {
    "name": "ipython",
    "version": 2
   },
   "file_extension": ".py",
   "mimetype": "text/x-python",
   "name": "python",
   "nbconvert_exporter": "python",
   "pygments_lexer": "ipython2",
   "version": "2.7.13"
  }
 },
 "nbformat": 4,
 "nbformat_minor": 2
}
