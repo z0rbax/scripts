{
 "cells": [
  {
   "cell_type": "code",
   "execution_count": 172,
   "metadata": {
    "collapsed": true
   },
   "outputs": [],
   "source": [
    "import pandas as pd\n",
    "from matplotlib import pyplot as plt\n",
    "%matplotlib inline\n",
    "import seaborn as sns"
   ]
  },
  {
   "cell_type": "code",
   "execution_count": 173,
   "metadata": {},
   "outputs": [
    {
     "data": {
      "text/html": [
       "<div>\n",
       "<style>\n",
       "    .dataframe thead tr:only-child th {\n",
       "        text-align: right;\n",
       "    }\n",
       "\n",
       "    .dataframe thead th {\n",
       "        text-align: left;\n",
       "    }\n",
       "\n",
       "    .dataframe tbody tr th {\n",
       "        vertical-align: top;\n",
       "    }\n",
       "</style>\n",
       "<table border=\"1\" class=\"dataframe\">\n",
       "  <thead>\n",
       "    <tr style=\"text-align: right;\">\n",
       "      <th></th>\n",
       "      <th>Subject</th>\n",
       "      <th>Phenotype</th>\n",
       "      <th>Gender</th>\n",
       "      <th>Total Size - Gb</th>\n",
       "      <th>Reads</th>\n",
       "      <th>Human reads</th>\n",
       "      <th>% Human reads</th>\n",
       "      <th>Unpaired reads</th>\n",
       "      <th>% Unpaired reads</th>\n",
       "    </tr>\n",
       "    <tr>\n",
       "      <th>#</th>\n",
       "      <th></th>\n",
       "      <th></th>\n",
       "      <th></th>\n",
       "      <th></th>\n",
       "      <th></th>\n",
       "      <th></th>\n",
       "      <th></th>\n",
       "      <th></th>\n",
       "      <th></th>\n",
       "    </tr>\n",
       "  </thead>\n",
       "  <tbody>\n",
       "    <tr>\n",
       "      <th>1</th>\n",
       "      <td>1</td>\n",
       "      <td>Normal</td>\n",
       "      <td>M</td>\n",
       "      <td>6.772</td>\n",
       "      <td>53745800</td>\n",
       "      <td>20504</td>\n",
       "      <td>0.038</td>\n",
       "      <td>663759</td>\n",
       "      <td>1.235</td>\n",
       "    </tr>\n",
       "    <tr>\n",
       "      <th>2</th>\n",
       "      <td>2</td>\n",
       "      <td>Normal</td>\n",
       "      <td>F</td>\n",
       "      <td>5.469</td>\n",
       "      <td>43400866</td>\n",
       "      <td>16441</td>\n",
       "      <td>0.038</td>\n",
       "      <td>581229</td>\n",
       "      <td>1.339</td>\n",
       "    </tr>\n",
       "    <tr>\n",
       "      <th>3</th>\n",
       "      <td>3</td>\n",
       "      <td>Normal</td>\n",
       "      <td>M</td>\n",
       "      <td>5.271</td>\n",
       "      <td>41830040</td>\n",
       "      <td>11207</td>\n",
       "      <td>0.027</td>\n",
       "      <td>570629</td>\n",
       "      <td>1.364</td>\n",
       "    </tr>\n",
       "    <tr>\n",
       "      <th>4</th>\n",
       "      <td>4</td>\n",
       "      <td>Normal</td>\n",
       "      <td>M</td>\n",
       "      <td>6.364</td>\n",
       "      <td>50504054</td>\n",
       "      <td>16741</td>\n",
       "      <td>0.033</td>\n",
       "      <td>575324</td>\n",
       "      <td>1.139</td>\n",
       "    </tr>\n",
       "    <tr>\n",
       "      <th>5</th>\n",
       "      <td>5</td>\n",
       "      <td>Normal</td>\n",
       "      <td>F</td>\n",
       "      <td>5.597</td>\n",
       "      <td>44420344</td>\n",
       "      <td>12978</td>\n",
       "      <td>0.029</td>\n",
       "      <td>577258</td>\n",
       "      <td>1.300</td>\n",
       "    </tr>\n",
       "    <tr>\n",
       "      <th>6</th>\n",
       "      <td>6</td>\n",
       "      <td>Normal</td>\n",
       "      <td>F</td>\n",
       "      <td>5.418</td>\n",
       "      <td>42996734</td>\n",
       "      <td>6445</td>\n",
       "      <td>0.015</td>\n",
       "      <td>596414</td>\n",
       "      <td>1.387</td>\n",
       "    </tr>\n",
       "    <tr>\n",
       "      <th>7</th>\n",
       "      <td>7</td>\n",
       "      <td>Normal</td>\n",
       "      <td>M</td>\n",
       "      <td>5.214</td>\n",
       "      <td>41382340</td>\n",
       "      <td>16803</td>\n",
       "      <td>0.041</td>\n",
       "      <td>456557</td>\n",
       "      <td>1.103</td>\n",
       "    </tr>\n",
       "    <tr>\n",
       "      <th>8</th>\n",
       "      <td>8</td>\n",
       "      <td>Normal</td>\n",
       "      <td>F</td>\n",
       "      <td>5.902</td>\n",
       "      <td>46844822</td>\n",
       "      <td>101415</td>\n",
       "      <td>0.216</td>\n",
       "      <td>549188</td>\n",
       "      <td>1.172</td>\n",
       "    </tr>\n",
       "    <tr>\n",
       "      <th>9</th>\n",
       "      <td>9</td>\n",
       "      <td>Normal</td>\n",
       "      <td>M</td>\n",
       "      <td>6.252</td>\n",
       "      <td>49618210</td>\n",
       "      <td>229549</td>\n",
       "      <td>0.463</td>\n",
       "      <td>618309</td>\n",
       "      <td>1.246</td>\n",
       "    </tr>\n",
       "    <tr>\n",
       "      <th>10</th>\n",
       "      <td>10</td>\n",
       "      <td>Normal</td>\n",
       "      <td>F</td>\n",
       "      <td>5.822</td>\n",
       "      <td>46204428</td>\n",
       "      <td>59323</td>\n",
       "      <td>0.128</td>\n",
       "      <td>542360</td>\n",
       "      <td>1.174</td>\n",
       "    </tr>\n",
       "    <tr>\n",
       "      <th>11</th>\n",
       "      <td>1</td>\n",
       "      <td>Obese</td>\n",
       "      <td>M</td>\n",
       "      <td>8.820</td>\n",
       "      <td>70000220</td>\n",
       "      <td>3714</td>\n",
       "      <td>0.005</td>\n",
       "      <td>1042649</td>\n",
       "      <td>1.489</td>\n",
       "    </tr>\n",
       "    <tr>\n",
       "      <th>12</th>\n",
       "      <td>2</td>\n",
       "      <td>Obese</td>\n",
       "      <td>F</td>\n",
       "      <td>5.979</td>\n",
       "      <td>47450562</td>\n",
       "      <td>33221</td>\n",
       "      <td>0.070</td>\n",
       "      <td>546423</td>\n",
       "      <td>1.152</td>\n",
       "    </tr>\n",
       "    <tr>\n",
       "      <th>13</th>\n",
       "      <td>3</td>\n",
       "      <td>Obese</td>\n",
       "      <td>M</td>\n",
       "      <td>7.475</td>\n",
       "      <td>59327550</td>\n",
       "      <td>6598</td>\n",
       "      <td>0.011</td>\n",
       "      <td>712134</td>\n",
       "      <td>1.200</td>\n",
       "    </tr>\n",
       "    <tr>\n",
       "      <th>14</th>\n",
       "      <td>4</td>\n",
       "      <td>Obese</td>\n",
       "      <td>M</td>\n",
       "      <td>6.920</td>\n",
       "      <td>54923700</td>\n",
       "      <td>17580</td>\n",
       "      <td>0.032</td>\n",
       "      <td>730590</td>\n",
       "      <td>1.330</td>\n",
       "    </tr>\n",
       "    <tr>\n",
       "      <th>15</th>\n",
       "      <td>5</td>\n",
       "      <td>Obese</td>\n",
       "      <td>M</td>\n",
       "      <td>5.497</td>\n",
       "      <td>43626418</td>\n",
       "      <td>849385</td>\n",
       "      <td>1.947</td>\n",
       "      <td>564592</td>\n",
       "      <td>1.294</td>\n",
       "    </tr>\n",
       "    <tr>\n",
       "      <th>16</th>\n",
       "      <td>6</td>\n",
       "      <td>Obese</td>\n",
       "      <td>F</td>\n",
       "      <td>6.376</td>\n",
       "      <td>50605218</td>\n",
       "      <td>27855</td>\n",
       "      <td>0.055</td>\n",
       "      <td>601754</td>\n",
       "      <td>1.189</td>\n",
       "    </tr>\n",
       "    <tr>\n",
       "      <th>17</th>\n",
       "      <td>7</td>\n",
       "      <td>Obese</td>\n",
       "      <td>F</td>\n",
       "      <td>4.557</td>\n",
       "      <td>36167550</td>\n",
       "      <td>9242</td>\n",
       "      <td>0.026</td>\n",
       "      <td>436407</td>\n",
       "      <td>1.207</td>\n",
       "    </tr>\n",
       "    <tr>\n",
       "      <th>18</th>\n",
       "      <td>8</td>\n",
       "      <td>Obese</td>\n",
       "      <td>F</td>\n",
       "      <td>5.207</td>\n",
       "      <td>41324418</td>\n",
       "      <td>30851</td>\n",
       "      <td>0.075</td>\n",
       "      <td>505566</td>\n",
       "      <td>1.223</td>\n",
       "    </tr>\n",
       "    <tr>\n",
       "      <th>19</th>\n",
       "      <td>9</td>\n",
       "      <td>Obese</td>\n",
       "      <td>F</td>\n",
       "      <td>6.389</td>\n",
       "      <td>50710216</td>\n",
       "      <td>29711</td>\n",
       "      <td>0.059</td>\n",
       "      <td>624721</td>\n",
       "      <td>1.232</td>\n",
       "    </tr>\n",
       "    <tr>\n",
       "      <th>20</th>\n",
       "      <td>10</td>\n",
       "      <td>Obese</td>\n",
       "      <td>M</td>\n",
       "      <td>5.825</td>\n",
       "      <td>46233290</td>\n",
       "      <td>55858</td>\n",
       "      <td>0.121</td>\n",
       "      <td>645626</td>\n",
       "      <td>1.396</td>\n",
       "    </tr>\n",
       "  </tbody>\n",
       "</table>\n",
       "</div>"
      ],
      "text/plain": [
       "    Subject Phenotype Gender  Total Size - Gb     Reads  Human reads  \\\n",
       "#                                                                      \n",
       "1         1    Normal      M            6.772  53745800        20504   \n",
       "2         2    Normal      F            5.469  43400866        16441   \n",
       "3         3    Normal      M            5.271  41830040        11207   \n",
       "4         4    Normal      M            6.364  50504054        16741   \n",
       "5         5    Normal      F            5.597  44420344        12978   \n",
       "6         6    Normal      F            5.418  42996734         6445   \n",
       "7         7    Normal      M            5.214  41382340        16803   \n",
       "8         8    Normal      F            5.902  46844822       101415   \n",
       "9         9    Normal      M            6.252  49618210       229549   \n",
       "10       10    Normal      F            5.822  46204428        59323   \n",
       "11        1     Obese      M            8.820  70000220         3714   \n",
       "12        2     Obese      F            5.979  47450562        33221   \n",
       "13        3     Obese      M            7.475  59327550         6598   \n",
       "14        4     Obese      M            6.920  54923700        17580   \n",
       "15        5     Obese      M            5.497  43626418       849385   \n",
       "16        6     Obese      F            6.376  50605218        27855   \n",
       "17        7     Obese      F            4.557  36167550         9242   \n",
       "18        8     Obese      F            5.207  41324418        30851   \n",
       "19        9     Obese      F            6.389  50710216        29711   \n",
       "20       10     Obese      M            5.825  46233290        55858   \n",
       "\n",
       "    % Human reads  Unpaired reads  % Unpaired reads  \n",
       "#                                                    \n",
       "1           0.038          663759             1.235  \n",
       "2           0.038          581229             1.339  \n",
       "3           0.027          570629             1.364  \n",
       "4           0.033          575324             1.139  \n",
       "5           0.029          577258             1.300  \n",
       "6           0.015          596414             1.387  \n",
       "7           0.041          456557             1.103  \n",
       "8           0.216          549188             1.172  \n",
       "9           0.463          618309             1.246  \n",
       "10          0.128          542360             1.174  \n",
       "11          0.005         1042649             1.489  \n",
       "12          0.070          546423             1.152  \n",
       "13          0.011          712134             1.200  \n",
       "14          0.032          730590             1.330  \n",
       "15          1.947          564592             1.294  \n",
       "16          0.055          601754             1.189  \n",
       "17          0.026          436407             1.207  \n",
       "18          0.075          505566             1.223  \n",
       "19          0.059          624721             1.232  \n",
       "20          0.121          645626             1.396  "
      ]
     },
     "execution_count": 173,
     "metadata": {},
     "output_type": "execute_result"
    }
   ],
   "source": [
    "df = pd.read_csv('data.csv', index_col=0)\n",
    "#df.head()\n",
    "df"
   ]
  },
  {
   "cell_type": "code",
   "execution_count": 174,
   "metadata": {},
   "outputs": [],
   "source": [
    "pkmn_type_colors = ['#2980B9', '#E74C3C']"
   ]
  },
  {
   "cell_type": "code",
   "execution_count": 175,
   "metadata": {},
   "outputs": [
    {
     "data": {
      "image/png": "[encoded data removed]",
      "text/plain": [
       "<matplotlib.figure.Figure at 0x7f44012abe50>"
      ]
     },
     "metadata": {},
     "output_type": "display_data"
    }
   ],
   "source": [
    "sns.barplot(x='Subject', y='Total Size - Gb', hue='Phenotype',  data=df, palette=pkmn_type_colors)\n",
    "#plt.xticks(rotation=-90)\n",
    "plt.savefig(\"01_size.pdf\")"
   ]
  },
  {
   "cell_type": "code",
   "execution_count": 176,
   "metadata": {
    "collapsed": true
   },
   "outputs": [],
   "source": [
    "#pkmn_type_colors = ['#6890F0', '#A8B820']"
   ]
  },
  {
   "cell_type": "code",
   "execution_count": 177,
   "metadata": {},
   "outputs": [
    {
     "data": {
      "image/png": "[encoded data removed]",
      "text/plain": [
       "<matplotlib.figure.Figure at 0x7f44012a8b50>"
      ]
     },
     "metadata": {},
     "output_type": "display_data"
    }
   ],
   "source": [
    "sns.barplot(x='Subject', y='Reads', hue='Phenotype', data=df, palette=pkmn_type_colors)\n",
    "plt.savefig(\"02_reads.pdf\")"
   ]
  },
  {
   "cell_type": "code",
   "execution_count": 178,
   "metadata": {
    "collapsed": true
   },
   "outputs": [],
   "source": [
    "#pkmn_type_colors = ['#A8A878', '#A040A0']"
   ]
  },
  {
   "cell_type": "code",
   "execution_count": 179,
   "metadata": {},
   "outputs": [
    {
     "data": {
      "image/png": "[encoded data removed]",
      "text/plain": [
       "<matplotlib.figure.Figure at 0x7f44013db390>"
      ]
     },
     "metadata": {},
     "output_type": "display_data"
    }
   ],
   "source": [
    "sns.barplot(x='Subject', y='Human reads', hue='Phenotype', data=df, palette=pkmn_type_colors)\n",
    "plt.savefig(\"03_humans.pdf\")"
   ]
  },
  {
   "cell_type": "code",
   "execution_count": 180,
   "metadata": {},
   "outputs": [
    {
     "data": {
      "image/png": "[encoded data removed]",
      "text/plain": [
       "<matplotlib.figure.Figure at 0x7f4400e30dd0>"
      ]
     },
     "metadata": {},
     "output_type": "display_data"
    }
   ],
   "source": [
    "sns.barplot(x='Subject', y='% Human reads', hue='Phenotype', data=df, palette=pkmn_type_colors)\n",
    "plt.savefig(\"04_per_humans.pdf\")"
   ]
  },
  {
   "cell_type": "code",
   "execution_count": 181,
   "metadata": {
    "collapsed": true
   },
   "outputs": [],
   "source": [
    "#pkmn_type_colors = ['#B8A038', '#705898']"
   ]
  },
  {
   "cell_type": "code",
   "execution_count": 182,
   "metadata": {},
   "outputs": [
    {
     "data": {
      "image/png": "[encoded data removed]",
      "text/plain": [
       "<matplotlib.figure.Figure at 0x7f4400d90b90>"
      ]
     },
     "metadata": {},
     "output_type": "display_data"
    }
   ],
   "source": [
    "sns.barplot(x='Subject', y='Unpaired reads', hue='Phenotype', data=df, palette=pkmn_type_colors)\n",
    "plt.savefig(\"05_unpaired.pdf\")"
   ]
  },
  {
   "cell_type": "code",
   "execution_count": 183,
   "metadata": {},
   "outputs": [
    {
     "data": {
      "image/png": "[encoded data removed]",
      "text/plain": [
       "<matplotlib.figure.Figure at 0x7f44014d5a50>"
      ]
     },
     "metadata": {},
     "output_type": "display_data"
    }
   ],
   "source": [
    "sns.barplot(x='Subject',y='% Unpaired reads', hue='Phenotype',data=df, palette=pkmn_type_colors)\n",
    "plt.savefig(\"06_per_unpaired.pdf\")"
   ]
  },
  {
   "cell_type": "code",
   "execution_count": null,
   "metadata": {
    "collapsed": true
   },
   "outputs": [],
   "source": []
  }
 ],
 "metadata": {
  "kernelspec": {
   "display_name": "Python 2",
   "language": "python",
   "name": "python2"
  },
  "language_info": {
   "codemirror_mode": {
    "name": "ipython",
    "version": 2
   },
   "file_extension": ".py",
   "mimetype": "text/x-python",
   "name": "python",
   "nbconvert_exporter": "python",
   "pygments_lexer": "ipython2",
   "version": "2.7.13"
  }
 },
 "nbformat": 4,
 "nbformat_minor": 2
}
